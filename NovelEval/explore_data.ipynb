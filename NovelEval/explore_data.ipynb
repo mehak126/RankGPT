{
 "cells": [
  {
   "cell_type": "code",
   "execution_count": 2,
   "metadata": {},
   "outputs": [],
   "source": [
    "import pandas as pd"
   ]
  },
  {
   "cell_type": "code",
   "execution_count": 5,
   "metadata": {},
   "outputs": [],
   "source": [
    "fpath = './corpus.tsv'\n",
    "df = pd.read_csv(fpath, sep='\\t', header=None, names=['id', 'contents'])"
   ]
  },
  {
   "cell_type": "code",
   "execution_count": 8,
   "metadata": {},
   "outputs": [
    {
     "data": {
      "text/html": [
       "<div>\n",
       "<style scoped>\n",
       "    .dataframe tbody tr th:only-of-type {\n",
       "        vertical-align: middle;\n",
       "    }\n",
       "\n",
       "    .dataframe tbody tr th {\n",
       "        vertical-align: top;\n",
       "    }\n",
       "\n",
       "    .dataframe thead th {\n",
       "        text-align: right;\n",
       "    }\n",
       "</style>\n",
       "<table border=\"1\" class=\"dataframe\">\n",
       "  <thead>\n",
       "    <tr style=\"text-align: right;\">\n",
       "      <th></th>\n",
       "      <th>id</th>\n",
       "      <th>contents</th>\n",
       "    </tr>\n",
       "  </thead>\n",
       "  <tbody>\n",
       "    <tr>\n",
       "      <th>0</th>\n",
       "      <td>0-0</td>\n",
       "      <td>Spider-Man: Across the Spider-Verse is a 2023 ...</td>\n",
       "    </tr>\n",
       "    <tr>\n",
       "      <th>1</th>\n",
       "      <td>0-1</td>\n",
       "      <td>Sony began developing a sequel to Into the Spi...</td>\n",
       "    </tr>\n",
       "    <tr>\n",
       "      <th>2</th>\n",
       "      <td>0-2</td>\n",
       "      <td>Spider-Man: Across the Spider-Verse premiered ...</td>\n",
       "    </tr>\n",
       "    <tr>\n",
       "      <th>3</th>\n",
       "      <td>0-3</td>\n",
       "      <td>Spider-Man: Into the Spider-Verse arrived in t...</td>\n",
       "    </tr>\n",
       "    <tr>\n",
       "      <th>4</th>\n",
       "      <td>0-4</td>\n",
       "      <td>\"The exact number? Oh boy, we kept adding, lik...</td>\n",
       "    </tr>\n",
       "    <tr>\n",
       "      <th>...</th>\n",
       "      <td>...</td>\n",
       "      <td>...</td>\n",
       "    </tr>\n",
       "    <tr>\n",
       "      <th>415</th>\n",
       "      <td>20-15</td>\n",
       "      <td>WHAT IS DRIVING THE INTEREST IN WATER-RELATED ...</td>\n",
       "    </tr>\n",
       "    <tr>\n",
       "      <th>416</th>\n",
       "      <td>20-16</td>\n",
       "      <td>The Little Mermaid: A Splashy Success in the P...</td>\n",
       "    </tr>\n",
       "    <tr>\n",
       "      <th>417</th>\n",
       "      <td>20-17</td>\n",
       "      <td>Halle Bailey and the rest of the cast of “The ...</td>\n",
       "    </tr>\n",
       "    <tr>\n",
       "      <th>418</th>\n",
       "      <td>20-18</td>\n",
       "      <td>With music by Alan Menken, lyrics by Howard As...</td>\n",
       "    </tr>\n",
       "    <tr>\n",
       "      <th>419</th>\n",
       "      <td>20-19</td>\n",
       "      <td>First released as an animated film in 1989, th...</td>\n",
       "    </tr>\n",
       "  </tbody>\n",
       "</table>\n",
       "<p>420 rows × 2 columns</p>\n",
       "</div>"
      ],
      "text/plain": [
       "        id                                           contents\n",
       "0      0-0  Spider-Man: Across the Spider-Verse is a 2023 ...\n",
       "1      0-1  Sony began developing a sequel to Into the Spi...\n",
       "2      0-2  Spider-Man: Across the Spider-Verse premiered ...\n",
       "3      0-3  Spider-Man: Into the Spider-Verse arrived in t...\n",
       "4      0-4  \"The exact number? Oh boy, we kept adding, lik...\n",
       "..     ...                                                ...\n",
       "415  20-15  WHAT IS DRIVING THE INTEREST IN WATER-RELATED ...\n",
       "416  20-16  The Little Mermaid: A Splashy Success in the P...\n",
       "417  20-17  Halle Bailey and the rest of the cast of “The ...\n",
       "418  20-18  With music by Alan Menken, lyrics by Howard As...\n",
       "419  20-19  First released as an animated film in 1989, th...\n",
       "\n",
       "[420 rows x 2 columns]"
      ]
     },
     "execution_count": 8,
     "metadata": {},
     "output_type": "execute_result"
    }
   ],
   "source": [
    "df"
   ]
  },
  {
   "cell_type": "code",
   "execution_count": null,
   "metadata": {},
   "outputs": [],
   "source": []
  }
 ],
 "metadata": {
  "kernelspec": {
   "display_name": "llmrankers",
   "language": "python",
   "name": "python3"
  },
  "language_info": {
   "codemirror_mode": {
    "name": "ipython",
    "version": 3
   },
   "file_extension": ".py",
   "mimetype": "text/x-python",
   "name": "python",
   "nbconvert_exporter": "python",
   "pygments_lexer": "ipython3",
   "version": "3.9.20"
  }
 },
 "nbformat": 4,
 "nbformat_minor": 2
}
